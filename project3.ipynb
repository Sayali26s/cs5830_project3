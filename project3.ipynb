{
 "cells": [
  {
   "cell_type": "code",
   "execution_count": null,
   "id": "727edecc",
   "metadata": {},
   "outputs": [],
   "source": [
    "# imports\n",
    "\n",
    "import pandas as pd\n",
    "import requests\n",
    "import csv\n",
    "import json \n",
    "import numpy as np\n",
    "import matplotlib.pyplot as plt\n",
    "from datetime import datetime\n",
    "import time\n",
    "from bs4 import BeautifulSoup\n",
    "import geopandas as gpd\n",
    "import plotly.express as px\n",
    "from scipy.stats import ttest_ind\n",
    "from scipy.stats import pearsonr"
   ]
  },
  {
   "cell_type": "markdown",
   "id": "a0a54c07",
   "metadata": {},
   "source": [
    "# Getting and Prepping Data for California and Texas"
   ]
  },
  {
   "cell_type": "code",
   "execution_count": null,
   "id": "5bab8af8",
   "metadata": {},
   "outputs": [],
   "source": [
    "# get data from website\n",
    "CA = requests.get(\"https://api.covidtracking.com/v2/states/ca/daily/simple.json\")\n",
    "TX = requests.get(\"https://api.covidtracking.com/v2/states/tx/daily/simple.json\")"
   ]
  },
  {
   "cell_type": "code",
   "execution_count": null,
   "id": "762bc452",
   "metadata": {},
   "outputs": [],
   "source": [
    "# getting json data we want\n",
    "texas = TX.json()['data']\n",
    "cali = CA.json()['data']"
   ]
  },
  {
   "cell_type": "code",
   "execution_count": null,
   "id": "f915b398",
   "metadata": {},
   "outputs": [],
   "source": [
    "# get data for texas into an array\n",
    "TX_array = []\n",
    "temp = []\n",
    "for item in texas:\n",
    "    if temp != []:\n",
    "        TX_array.append(temp)\n",
    "    # reset temp array\n",
    "    temp = []\n",
    "    \n",
    "    #add needed values to our array\n",
    "    temp.append(item['date'])\n",
    "    temp.append(item['cases']['total'])\n",
    "    temp.append(item['outcomes']['recovered'])\n",
    "    temp.append(item['outcomes']['hospitalized']['currently'])\n",
    "    temp.append(item['outcomes']['hospitalized']['in_icu']['currently'])\n",
    "    temp.append(item['outcomes']['death']['total'])\n",
    "\n",
    "# replaces NoneTypes with 0\n",
    "# NoneTypes are when there is no data collected, like deaths at the begining are all 0\n",
    "for index1, i in enumerate(TX_array):\n",
    "    for index2, j in enumerate(i):\n",
    "        if type(j) is type(None):\n",
    "            TX_array[index1][index2] = 0\n",
    "TX_array.pop(52)\n",
    "x = 5"
   ]
  },
  {
   "cell_type": "code",
   "execution_count": null,
   "id": "018c05fc",
   "metadata": {},
   "outputs": [],
   "source": [
    "# get data for California into an array\n",
    "CA_array = []\n",
    "temp = []\n",
    "for item in cali:\n",
    "    if temp != []:\n",
    "        CA_array.append(temp)\n",
    "    # reset temp array\n",
    "    temp = []\n",
    "    \n",
    "    #add needed values to our array\n",
    "    temp.append(item['date'])\n",
    "    temp.append(item['cases']['total'])\n",
    "    temp.append(item['outcomes']['recovered'])\n",
    "    temp.append(item['outcomes']['hospitalized']['currently'])\n",
    "    temp.append(item['outcomes']['hospitalized']['in_icu']['currently'])\n",
    "    temp.append(item['outcomes']['death']['total'])\n",
    "    \n",
    "# replaces NoneTypes with 0\n",
    "# NoneTypes are when there is no data collected, like deaths at the begining are all 0\n",
    "for index1, i in enumerate(CA_array):\n",
    "    for index2, j in enumerate(i):\n",
    "        if type(j) is type(None):\n",
    "            CA_array[index1][index2] = 0\n",
    "            "
   ]
  },
  {
   "cell_type": "code",
   "execution_count": null,
   "id": "3b903c25",
   "metadata": {},
   "outputs": [],
   "source": [
    "# make dates easy to put in order\n",
    "# for index, item in enumerate(TX_array):\n",
    "#     item[0] = int(item[0].replace(\"-\",\"\"))\n",
    "#     TX_array[index][0] = item[0]\n",
    "    \n",
    "# for index, item in enumerate(CA_array):\n",
    "#     item[0] = int(item[0].replace(\"-\",\"\"))\n",
    "#     CA_array[index][0] = item[0]\n",
    "\n",
    "for index, item in enumerate(CA_array):\n",
    "    dt = datetime.strptime(item[0], '%Y-%m-%d')\n",
    "    dt = time.mktime(dt.timetuple())\n",
    "    item[0] = dt\n",
    "    CA_array[index][0] = item[0]\n",
    "    \n",
    "for index, item in enumerate(TX_array):\n",
    "    dt = datetime.strptime(item[0], '%Y-%m-%d')\n",
    "    dt = time.mktime(dt.timetuple())\n",
    "    item[0] = dt\n",
    "    TX_array[index][0] = item[0]\n"
   ]
  },
  {
   "cell_type": "code",
   "execution_count": null,
   "id": "259c36a2",
   "metadata": {},
   "outputs": [],
   "source": [
    "# making it a dataframe because I know how to work with those\n",
    "column_values = ['date', 'cases', 'recovered', 'hospitalized', 'icu', 'death']\n",
    "TxArray = np.array(TX_array)\n",
    "\n",
    "Tx_df = pd.DataFrame(data = TxArray, \n",
    "                  columns = column_values)\n",
    "\n",
    "Tx_df['date'] = pd.to_datetime(Tx_df['date'], unit='s')\n",
    "\n",
    "CaArray = np.array(CA_array)\n",
    "\n",
    "Ca_df = pd.DataFrame(data = CaArray, \n",
    "                  columns = column_values)\n",
    "\n",
    "Ca_df['date'] = pd.to_datetime(Ca_df['date'], unit='s')"
   ]
  },
  {
   "cell_type": "code",
   "execution_count": null,
   "id": "9d9ce5db",
   "metadata": {},
   "outputs": [],
   "source": [
    "# making multipliers to make things percentages\n",
    "Tx_toPercent = (1/295300)\n",
    "Ca_toPercent = (1/392400)"
   ]
  },
  {
   "cell_type": "markdown",
   "id": "c668cb3a",
   "metadata": {},
   "source": [
    "# Cases in California and Texas"
   ]
  },
  {
   "cell_type": "code",
   "execution_count": null,
   "id": "0f9eab08",
   "metadata": {},
   "outputs": [],
   "source": [
    "# Plot Cases\n",
    "plt.plot(Ca_df.date, Ca_df.cases, label=\"CA\")\n",
    "plt.plot(Ca_df.date, Tx_df.cases, label=\"TX\")\n",
    "plt.legend()\n",
    "plt.title(\"Total Cases\")\n",
    "plt.xlabel(\"Date\")\n",
    "plt.ylabel(\"Cases in Millions\")\n",
    "\n",
    "plt.show()"
   ]
  },
  {
   "cell_type": "code",
   "execution_count": null,
   "id": "716e93d2",
   "metadata": {},
   "outputs": [],
   "source": [
    "# Plot Cases %\n",
    "plt.plot(Ca_df.date, (Ca_df.cases * Ca_toPercent), label=\"CA\")\n",
    "plt.plot(Ca_df.date, (Tx_df.cases * Tx_toPercent), label=\"TX\")\n",
    "plt.legend()\n",
    "plt.title(\"Total Cases in % of population\")\n",
    "plt.xlabel(\"Date\")\n",
    "plt.ylabel(\"% of Total Population\")\n",
    "\n",
    "plt.show()"
   ]
  },
  {
   "cell_type": "code",
   "execution_count": null,
   "id": "f4c2c799",
   "metadata": {},
   "outputs": [],
   "source": [
    "print(\"total cases % in California: \" + str(Ca_df.cases[0] * Ca_toPercent))\n",
    "\n",
    "print(\"total cases % in Texas: \" + str(Tx_df.cases[0] * Tx_toPercent))\n",
    "\n",
    "print(\"difference: \" + str((Tx_df.cases[0] * Tx_toPercent) - (Ca_df.cases[0] * Ca_toPercent)))"
   ]
  },
  {
   "cell_type": "markdown",
   "id": "5bb6a113",
   "metadata": {},
   "source": [
    "# People Hospitalized"
   ]
  },
  {
   "cell_type": "code",
   "execution_count": null,
   "id": "f14118be",
   "metadata": {},
   "outputs": [],
   "source": [
    "# Plot Hospitalized\n",
    "plt.plot(Ca_df.date, Ca_df.hospitalized, label=\"CA\")\n",
    "plt.plot(Ca_df.date, Tx_df.hospitalized, label=\"TX\")\n",
    "plt.legend()\n",
    "plt.title(\"Total Hospitalized\")\n",
    "plt.xlabel(\"Date\")\n",
    "plt.ylabel(\"People Hospitalized\")\n",
    "\n",
    "plt.show()"
   ]
  },
  {
   "cell_type": "code",
   "execution_count": null,
   "id": "559c1bb4",
   "metadata": {},
   "outputs": [],
   "source": [
    "# Plot people hospitalized %\n",
    "plt.plot(Ca_df.date, (Ca_df.hospitalized * Ca_toPercent), label=\"CA\")\n",
    "plt.plot(Ca_df.date, (Tx_df.hospitalized * Tx_toPercent), label=\"TX\")\n",
    "plt.legend()\n",
    "plt.title(\"Total People Hospitalized in % of population\")\n",
    "plt.xlabel(\"Date\")\n",
    "plt.ylabel(\"% of Total Population\")\n",
    "\n",
    "plt.show()"
   ]
  },
  {
   "cell_type": "markdown",
   "id": "eee7de9b",
   "metadata": {},
   "source": [
    "# People in the ICU"
   ]
  },
  {
   "cell_type": "code",
   "execution_count": null,
   "id": "3e3bd2e9",
   "metadata": {},
   "outputs": [],
   "source": [
    "# Plot ICU\n",
    "plt.plot(Ca_df.date, Ca_df.icu, label=\"CA\")\n",
    "plt.plot(Ca_df.date, Tx_df.icu, label=\"TX\")\n",
    "plt.legend()\n",
    "plt.title(\"Total in ICU\")\n",
    "plt.xlabel(\"Date\")\n",
    "plt.ylabel(\"People in the ICU\")\n",
    "\n",
    "plt.show()"
   ]
  },
  {
   "cell_type": "code",
   "execution_count": null,
   "id": "dad222c9",
   "metadata": {},
   "outputs": [],
   "source": [
    "# Plot of people in ICU in %\n",
    "plt.plot(Ca_df.date, (Ca_df.icu * Ca_toPercent), label=\"CA\")\n",
    "plt.plot(Ca_df.date, (Tx_df.icu * Tx_toPercent), label=\"TX\")\n",
    "plt.legend()\n",
    "plt.title(\"Total People in ICU in % of population\")\n",
    "plt.xlabel(\"Date\")\n",
    "plt.ylabel(\"% of Total Population in ICU\")\n",
    "\n",
    "plt.show()"
   ]
  },
  {
   "cell_type": "markdown",
   "id": "bcc140a4",
   "metadata": {},
   "source": [
    "# Deaths"
   ]
  },
  {
   "cell_type": "code",
   "execution_count": null,
   "id": "fcefb0b8",
   "metadata": {},
   "outputs": [],
   "source": [
    "#Plot Deaths\n",
    "plt.plot(Ca_df.date, Ca_df.death, label=\"CA\")\n",
    "plt.plot(Ca_df.date, Tx_df.death, label=\"TX\")\n",
    "plt.legend()\n",
    "plt.title(\"Total Deaths\")\n",
    "plt.xlabel(\"Date\")\n",
    "plt.ylabel(\"Deaths\")\n",
    "\n",
    "plt.show()"
   ]
  },
  {
   "cell_type": "code",
   "execution_count": null,
   "id": "fe81205b",
   "metadata": {},
   "outputs": [],
   "source": [
    "# Plot Death %\n",
    "plt.plot(Ca_df.date, (Ca_df.death * Ca_toPercent), label=\"CA\")\n",
    "plt.plot(Ca_df.date, (Tx_df.death * Tx_toPercent), label=\"TX\")\n",
    "plt.legend()\n",
    "plt.title(\"Total Deaths in % of population\")\n",
    "plt.xlabel(\"Date\")\n",
    "plt.ylabel(\"% of Total Population\")\n",
    "\n",
    "plt.show()"
   ]
  },
  {
   "cell_type": "code",
   "execution_count": null,
   "id": "4ac62f57",
   "metadata": {},
   "outputs": [],
   "source": [
    "print(\"total death % in California: \" + str(Ca_df.death[0] * Ca_toPercent))\n",
    "\n",
    "print(\"total death % in Texas: \" + str(Tx_df.death[0] * Tx_toPercent))\n",
    "\n",
    "print(\"difference: \" + str((Tx_df.death[0] * Tx_toPercent) - (Ca_df.death[0] * Ca_toPercent)))"
   ]
  },
  {
   "cell_type": "markdown",
   "id": "3f35397a",
   "metadata": {},
   "source": [
    "# Cases per Death"
   ]
  },
  {
   "cell_type": "code",
   "execution_count": null,
   "id": "ec9e1169",
   "metadata": {},
   "outputs": [],
   "source": [
    "#Plot Cases v Death\n",
    "plt.plot(Ca_df.cases, Ca_df.death, label=\"CA\")\n",
    "plt.plot(Tx_df.cases, Tx_df.death, label=\"TX\")\n",
    "plt.legend()\n",
    "plt.title(\"Deaths per Case\")\n",
    "plt.xlabel(\"Case's in Millions\")\n",
    "plt.ylabel(\"Deaths\")\n",
    "\n",
    "plt.show()"
   ]
  },
  {
   "cell_type": "code",
   "execution_count": null,
   "id": "68f6607e",
   "metadata": {},
   "outputs": [],
   "source": [
    "#Plot Hospitalized vs in ICU\n",
    "plt.scatter(Ca_df.hospitalized, Ca_df.icu, label=\"CA\")\n",
    "plt.scatter(Tx_df.hospitalized, Tx_df.icu, label=\"TX\")\n",
    "plt.legend()\n",
    "plt.title(\"Hospitalized vs ICU\")\n",
    "plt.xlabel(\"People in Hospitals\")\n",
    "plt.ylabel(\"Total in ICU\")\n",
    "\n",
    "plt.show()"
   ]
  },
  {
   "cell_type": "markdown",
   "id": "5654b834",
   "metadata": {},
   "source": [
    "# Getting json for All States and Prepping the Data"
   ]
  },
  {
   "cell_type": "code",
   "execution_count": null,
   "id": "6efb62c9",
   "metadata": {},
   "outputs": [],
   "source": [
    "# Send a GET request to the URL\n",
    "response = requests.get('https://api.covidtracking.com/v1/states/daily.json')\n",
    "\n",
    "# Get the JSON data\n",
    "json_data = response.json()\n",
    "\n",
    "# Write the JSON data to a file\n",
    "with open(\"covid_state.json\", \"w\") as file:\n",
    "     json.dump(json_data, file)\n"
   ]
  },
  {
   "cell_type": "code",
   "execution_count": null,
   "id": "779f4e29",
   "metadata": {},
   "outputs": [],
   "source": [
    "# Get data from json\n",
    "data = []\n",
    "with open('./covid_state.json', 'r') as json_file:\n",
    "    for line in json_file:\n",
    "        data=json.loads(line)\n",
    "\n",
    "df = pd.DataFrame(data)"
   ]
  },
  {
   "cell_type": "code",
   "execution_count": null,
   "id": "c8a0231d",
   "metadata": {},
   "outputs": [],
   "source": [
    "df.columns"
   ]
  },
  {
   "cell_type": "markdown",
   "id": "83222221",
   "metadata": {},
   "source": [
    "# Deaths in the US"
   ]
  },
  {
   "cell_type": "code",
   "execution_count": null,
   "id": "43860a8b",
   "metadata": {},
   "outputs": [],
   "source": [
    "# Group by state in new dataframe\n",
    "df_grouped = df.groupby('state')['death'].sum().reset_index()\n",
    "\n",
    "# Specify range for color scale\n",
    "color_range = (df_grouped['death'].min(), df_grouped['death'].max())\n",
    "\n",
    "# Plot choropleth map\n",
    "fig = px.choropleth(df_grouped, locations='state', locationmode=\"USA-states\", color='death', scope=\"usa\", color_continuous_scale=\"Agsunset\",\n",
    "                    title='Number of death Cases in USA States', range_color=color_range)\n",
    "\n",
    "# Show the plot\n",
    "fig.show()\n"
   ]
  },
  {
   "cell_type": "code",
   "execution_count": null,
   "id": "aa13e106",
   "metadata": {},
   "outputs": [],
   "source": [
    "# Calculate Pearson correlation coefficient\n",
    "df_cleaned = df.dropna(subset=['positive', 'death'])\n",
    "correlation_coefficient, p_value = pearsonr(df_cleaned['positive'], df_cleaned['death'])\n",
    "print(\"Pearson Correlation Coefficient:\", correlation_coefficient)\n",
    "print(\"P-value:\", p_value)\n",
    "# Plotting Death vs positive\n",
    "plt.figure(figsize=(10, 6))\n",
    "plt.scatter(df_cleaned['positive'], df_cleaned['death'], color='blue', alpha=0.5)\n",
    "plt.title(' No of Death vs positive cases')\n",
    "plt.xlabel('positive')\n",
    "plt.ylabel('Death')\n",
    "plt.grid(True)\n",
    "plt.show()"
   ]
  },
  {
   "cell_type": "code",
   "execution_count": null,
   "id": "c56d00ba",
   "metadata": {},
   "outputs": [],
   "source": [
    "# Calculate Pearson correlation coefficient\n",
    "df_cleaned = df.dropna(subset=['hospitalized', 'death'])\n",
    "correlation_coefficient, p_value = pearsonr(df_cleaned['hospitalized'], df_cleaned['death'])\n",
    "print(\"Pearson Correlation Coefficient:\", correlation_coefficient)\n",
    "print(\"P-value:\", p_value)\n",
    "# Plotting Death vs Hospitalized\n",
    "plt.figure(figsize=(10, 6))\n",
    "plt.scatter(df_cleaned['hospitalized'], df_cleaned['death'], color='blue', alpha=0.5)\n",
    "plt.title('No of Death vs Hospitalized case')\n",
    "plt.xlabel('Hospitalized')\n",
    "plt.ylabel('Death')\n",
    "plt.grid(True)\n",
    "plt.show()\n"
   ]
  },
  {
   "cell_type": "markdown",
   "id": "c1b9a34d",
   "metadata": {},
   "source": [
    "# Positive and Negative Cases"
   ]
  },
  {
   "cell_type": "code",
   "execution_count": null,
   "id": "1ff0aba2",
   "metadata": {},
   "outputs": [],
   "source": [
    "# Convert 'date' column to datetime\n",
    "df['date'] = pd.to_datetime(df['date'], format='%Y%m%d')\n",
    "\n",
    "# Calculate daily increases in positive and negative cases\n",
    "df['daily_positive_increase'] = df['positiveIncrease'].diff()\n",
    "df['daily_negative_increase'] = df['negativeIncrease'].diff()\n",
    "\n",
    "# Plotting\n",
    "plt.figure(figsize=(12, 8))\n",
    "\n",
    "# Plot daily increase in positive cases\n",
    "plt.subplot(2, 1, 1)\n",
    "plt.plot(df['date'], df['daily_positive_increase'], color='blue')\n",
    "plt.title('Daily Increase in Positive Cases')\n",
    "plt.xlabel('Date')\n",
    "plt.ylabel('Daily Increase')\n",
    "plt.grid(True)\n",
    "\n",
    "# Plot daily increase in negative cases\n",
    "plt.subplot(2, 1, 2)\n",
    "plt.plot(df['date'], df['daily_negative_increase'], color='red')\n",
    "plt.title('Daily Increase in Negative Cases')\n",
    "plt.xlabel('Date')\n",
    "plt.ylabel('Daily Increase')\n",
    "plt.grid(True)\n",
    "plt.tight_layout()\n",
    "plt.show()"
   ]
  }
 ],
 "metadata": {
  "kernelspec": {
   "display_name": "Python 3 (ipykernel)",
   "language": "python",
   "name": "python3"
  },
  "language_info": {
   "codemirror_mode": {
    "name": "ipython",
    "version": 3
   },
   "file_extension": ".py",
   "mimetype": "text/x-python",
   "name": "python",
   "nbconvert_exporter": "python",
   "pygments_lexer": "ipython3",
   "version": "3.11.4"
  }
 },
 "nbformat": 4,
 "nbformat_minor": 5
}
